{
 "cells": [
  {
   "cell_type": "code",
   "execution_count": 1,
   "metadata": {},
   "outputs": [
    {
     "name": "stdout",
     "output_type": "stream",
     "text": [
      "\n",
      "################################################################################\n",
      " Set up the mesh and finite element spaces \n",
      "################################################################################\n",
      "\n",
      "Number of dofs: STATE=14003, PARAMETER=14003, ADJOINT=14003\n"
     ]
    }
   ],
   "source": [
    "import time\n",
    "import math\n",
    "from fenics import *\n",
    "import dolfin as dl\n",
    "import ufl\n",
    "import numpy as np\n",
    "import matplotlib.cm as cm\n",
    "from matplotlib import colors\n",
    "import matplotlib.pyplot as plt\n",
    "import argparse\n",
    "import itertools as iter\n",
    "import sys\n",
    "import os\n",
    "from hippylib import *\n",
    "import tqdm\n",
    "\n",
    "# Parse command line arguments for parallel computing\n",
    "sep = \"\\n\"+\"#\"*80+\"\\n\"\n",
    "ndim = 2\n",
    "s = 0.5\n",
    "\n",
    "# Noise parameter and output settings\n",
    "sigma = np.sqrt(3.9e-3)\n",
    "out_dir = \"output/\"\n",
    "t_init = 0.\n",
    "t_final = 10.\n",
    "tlist = np.linspace(0, 10, 100)\n",
    "\n",
    "parRandom = Random(seed=np.random.randint(0,1000))\n",
    "\n",
    "\n",
    "# Define tumor growth equation using finite element variational formulation\n",
    "class TumorEquationVarf:\n",
    "    def __init__(self, dt, dx, D):\n",
    "        self._dt = dt\n",
    "        self.dt_inv = dl.Constant(1./dt)\n",
    "        self.dx = dx\n",
    "        self.D = D\n",
    "\n",
    "    @property\n",
    "    def dt(self):\n",
    "        return self._dt\n",
    "\n",
    "    def __call__(self,u,u_old, m, p, t):\n",
    "        return (u - u_old)*p*self.dt_inv*self.dx \\\n",
    "               + ufl.exp(self.D)*ufl.inner(ufl.grad(u), ufl.grad(p))*self.dx \\\n",
    "               - ufl.exp(m)*u*(dl.Constant(1.) - u)*p*self.dx \\\n",
    "\n",
    "# Load mesh and boundary/subdomain information\n",
    "mesh = dl.Mesh(\"mesh/W05_0.xml\")\n",
    "boundaries = dl.MeshFunction(\"size_t\", mesh, mesh.topology().dim()-1)\n",
    "boundaries.set_all(2)\n",
    "sub_domains = dl.MeshFunction(\"size_t\", mesh, mesh.topology().dim())\n",
    "with dl.XDMFFile(\"data/W05_brain.xdmf\") as fid:\n",
    "    fid.read(sub_domains)\n",
    "    \n",
    "# Set up finite element function spaces\n",
    "P1 = dl.FiniteElement(\"Lagrange\", cell=mesh.ufl_cell(), degree=1)\n",
    "P2 = dl.FiniteElement(\"Lagrange\", cell=mesh.ufl_cell(), degree=1)\n",
    "Vh2 = dl.FunctionSpace(mesh, P2)\n",
    "Vh1 = dl.FunctionSpace(mesh, P1)\n",
    "\n",
    "# Function spaces for [STATE, PARAMETER, ADJOINT]\n",
    "Vh = [Vh2, Vh1, Vh2]\n",
    "ndofs = [Vh[STATE].dim(), Vh[PARAMETER].dim(), Vh[ADJOINT].dim()]\n",
    "print (sep, \"Set up the mesh and finite element spaces\", sep)\n",
    "print (\"Number of dofs: STATE={0}, PARAMETER={1}, ADJOINT={2}\".format(*ndofs) )\n",
    "f = dl.Constant(0.0)\n",
    "bc = []; bc0 = []"
   ]
  },
  {
   "cell_type": "code",
   "execution_count": 2,
   "metadata": {},
   "outputs": [
    {
     "data": {
      "text/plain": [
       "<matplotlib.collections.PolyCollection at 0x7f9c8cc22f80>"
      ]
     },
     "execution_count": 2,
     "metadata": {},
     "output_type": "execute_result"
    },
    {
     "data": {
      "image/png": "[encoded data removed]",
      "text/plain": [
       "<Figure size 640x480 with 1 Axes>"
      ]
     },
     "metadata": {},
     "output_type": "display_data"
    },
    {
     "data": {
      "image/png": "[encoded data removed]",
      "text/plain": [
       "<Figure size 640x480 with 1 Axes>"
      ]
     },
     "metadata": {},
     "output_type": "display_data"
    }
   ],
   "source": [
    "nb.plot(mesh)\n",
    "plt.figure()\n",
    "plot(sub_domains)"
   ]
  },
  {
   "cell_type": "code",
   "execution_count": 3,
   "metadata": {},
   "outputs": [],
   "source": [
    "# Physical parameters for gray matter (gm) and white matter (wm)\n",
    "# Gray matter diffusion parameters\n",
    "rho_gm_D = 6 \n",
    "var_gm_D =  0.2336 \n",
    "DELTA_gm_D = np.sqrt(2)/(np.sqrt(var_gm_D)*rho_gm_D*np.sqrt(np.pi))\n",
    "GAMMA_gm_D = rho_gm_D/(np.sqrt(var_gm_D)*4*np.sqrt(2*np.pi))\n",
    "mean_gm_D = -0.9937\n",
    "\n",
    "# Gray matter growth parameters\n",
    "rho_gm_G = 6 \n",
    "var_gm_G =  0.0682\n",
    "DELTA_gm_G = np.sqrt(2)/(np.sqrt(var_gm_G)*rho_gm_G*np.sqrt(np.pi))\n",
    "GAMMA_gm_G = rho_gm_G/(np.sqrt(var_gm_G)*4*np.sqrt(2*np.pi))\n",
    "mean_gm_G = -0.78 \n",
    "\n",
    "# White matter diffusion parameters\n",
    "rho_wm_D = 12 \n",
    "var_wm_D =  0.2336\n",
    "DELTA_wm_D = np.sqrt(2)/(np.sqrt(var_wm_D)*rho_wm_D*np.sqrt(np.pi))\n",
    "GAMMA_wm_D = rho_wm_D/(np.sqrt(var_wm_D)*4*np.sqrt(2*np.pi))\n",
    "mean_wm_D = -0.3006 \n",
    "\n",
    "# White matter growth parameters\n",
    "rho_wm_G = 12\n",
    "var_wm_G = 0.0682\n",
    "DELTA_wm_G = np.sqrt(2)/(np.sqrt(var_wm_G)*rho_wm_G*np.sqrt(np.pi))\n",
    "GAMMA_wm_G = rho_wm_G/(np.sqrt(var_wm_G)*4*np.sqrt(2*np.pi))\n",
    "mean_wm_G = -0.8419 \n",
    "\n"
   ]
  },
  {
   "cell_type": "code",
   "execution_count": 5,
   "metadata": {},
   "outputs": [],
   "source": [
    "# Brain tissue property class - assigns different values to gray/white matter\n",
    "class Brain(UserExpression):\n",
    "    def __init__(self, subdomains, k0, k1, **kwargs):\n",
    "        super().__init__(**kwargs)\n",
    "        self.subdomains = subdomains\n",
    "        self.k0 = k0\n",
    "        self.k1 = k1\n",
    "    \n",
    "    def eval_cell(self, values, x, cell):\n",
    "        if self.subdomains[cell.index] == 0:\n",
    "            values[0] = self.k0\n",
    "    \n",
    "        if self.subdomains[cell.index] == 1:\n",
    "            values[0] = self.k1\n",
    "    \n",
    "    def value_shape(self):\n",
    "        return ()"
   ]
  },
  {
   "cell_type": "code",
   "execution_count": 6,
   "metadata": {},
   "outputs": [],
   "source": [
    "# Create mean diffusion and growth parameter fields\n",
    "m_0 = Brain(sub_domains, mean_gm_D, mean_wm_D) \n",
    "m_mean = interpolate(m_0, Vh1)\n",
    "g_0 = Brain(sub_domains, mean_gm_G, mean_wm_G) \n",
    "g_mean = project(g_0, Vh1)"
   ]
  },
  {
   "cell_type": "code",
   "execution_count": 17,
   "metadata": {},
   "outputs": [],
   "source": [
    "# Robin boundary condition coefficients\n",
    "gamma = dl.Constant((GAMMA_gm_G, GAMMA_wm_G))\n",
    "delta = dl.Constant((DELTA_gm_G, DELTA_wm_G))\n",
    "def get_robin_coeff(gamma, delta):\n",
    "    return np.sqrt(delta*gamma)/np.sqrt(np.pi)\n",
    "robin_coeff = dl.Constant((get_robin_coeff(GAMMA_gm_G, DELTA_gm_G), get_robin_coeff(GAMMA_wm_G, DELTA_wm_G)))"
   ]
  },
  {
   "cell_type": "code",
   "execution_count": 19,
   "metadata": {},
   "outputs": [],
   "source": [
    "# Define prior distribution for parameters with different tissue types\n",
    "def vector_sqrt_precision_varf_handler(trial, test): \n",
    "    \n",
    "    dx = Measure('dx', domain=mesh, subdomain_data=sub_domains)\n",
    "    ds = Measure('ds', domain=mesh, subdomain_data=sub_domains)\n",
    "\n",
    "    # Gray matter (subdomain 0) contributions\n",
    "    varfL = ufl.inner(gamma[0] * ufl.grad(trial), ufl.grad(test))*dx(0)\n",
    "    varfM = ufl.inner(delta[0]*trial,test)*dx(0)\n",
    "    varf_robin = ufl.inner(robin_coeff[1] * trial,test)*ds(0)\n",
    "    \n",
    "    # White matter (subdomain 1) contributions        \n",
    "    varfL1 = ufl.inner(gamma[1] * ufl.grad(trial), ufl.grad(test))*dx(1)\n",
    "    varfM1 = ufl.inner(delta[1]*trial,test)*dx(1)\n",
    "    varf_robin1 = ufl.inner(robin_coeff[1] * trial,test)*ds(1)\n",
    "    \n",
    "    return varfL + varfM + varf_robin + varfL1 + varfM1 + varf_robin1\n",
    "\n",
    "prior = SqrtPrecisionPDE_Prior(Vh[PARAMETER], vector_sqrt_precision_varf_handler, mean=g_mean.vector(), rel_tol=1e-12, max_iter=1000)"
   ]
  },
  {
   "cell_type": "code",
   "execution_count": 29,
   "metadata": {},
   "outputs": [],
   "source": [
    "dt = 0.1\n",
    "u0_expr = dl.Expression(\"std::exp( - pow(pow(x[0]-px, 2)/sigma2x + pow(x[1]-py, 2)/sigma2y, p) )\", element = Vh[STATE].ufl_element(), p=4, sigma2x=0.2, sigma2y=0.2, px=9, py=7)\n",
    "u0 = dl.interpolate(u0_expr, Vh[STATE])\n",
    "\n",
    "# Set up the PDE problem\n",
    "pde_varf = TumorEquationVarf(dt, ufl.dx, m_mean)\n",
    "pde = TimeDependentPDEVariationalProblem(Vh, pde_varf, bc, bc0, u0, t_init, t_final, is_fwd_linear=False)"
   ]
  },
  {
   "cell_type": "code",
   "execution_count": 30,
   "metadata": {},
   "outputs": [],
   "source": [
    "# Generate true model parameters (noisy sample from prior)\n",
    "def true_model(prior):\n",
    "    \"\"\"Return a noisy sample from the prior.\n",
    "    \"\"\"\n",
    "    noise = dl.Vector()\n",
    "    prior.init_vector(noise,\"noise\")\n",
    "    parRandom.normal(1., noise)\n",
    "    mtrue = dl.Vector()\n",
    "    prior.init_vector(mtrue, 0)\n",
    "    prior.sample(noise,mtrue)\n",
    "    return mtrue"
   ]
  },
  {
   "cell_type": "code",
   "execution_count": 44,
   "metadata": {},
   "outputs": [],
   "source": [
    "def tDVec_to_numpy(tdvec):\n",
    "    times = len(tdvec.times)\n",
    "    state = tdvec.data[0].size()\n",
    "    nparray = np.zeros((times,state))\n",
    "    for i in range(times):\n",
    "        nparray[i][:] = tdvec.data[i].get_local()\n",
    "    return nparray"
   ]
  },
  {
   "cell_type": "code",
   "execution_count": null,
   "metadata": {},
   "outputs": [],
   "source": [
    "# Generate PDE solutions\n",
    "for i in range(50):\n",
    "    utrue = pde.generate_state()\n",
    "    atrue = pde.generate_adjoint()\n",
    "\n",
    "    ## Prior sample\n",
    "    mtrue = true_model(prior)  \n",
    "\n",
    "    x = [utrue, mtrue, atrue]\n",
    "\n",
    "    ## Solve Forward problem\n",
    "    pde.solveFwd(x[STATE], x)\n",
    "    intmed = tDVec_to_numpy(x[STATE])\n",
    "    ulist.append(intmed)\n",
    "    xlist.append(x)"
   ]
  },
  {
   "cell_type": "code",
   "execution_count": 47,
   "metadata": {},
   "outputs": [],
   "source": [
    "# Compute PCA using the PDE solutions\n",
    "ulist_np = np.array(ulist)\n",
    "xlist_np_ = ulist_np[:,1:]\n",
    "check = ulist_np\n",
    "check_flat = check.reshape(-1,14003)\n",
    "cov_matrix = np.cov(check_flat, rowvar=False)\n",
    "\n",
    "# Eigendecomposition of covariance matrix for PCA\n",
    "eigenvalues, eigenvectors = np.linalg.eigh(cov_matrix)\n",
    "eigvals = np.flip(eigenvalues)\n",
    "eigenvecs = np.flip(eigenvectors,axis=1)"
   ]
  },
  {
   "cell_type": "code",
   "execution_count": 62,
   "metadata": {},
   "outputs": [
    {
     "data": {
      "text/plain": [
       "[<matplotlib.lines.Line2D at 0x7f9c7a098f10>]"
      ]
     },
     "execution_count": 62,
     "metadata": {},
     "output_type": "execute_result"
    },
    {
     "data": {
      "image/png": "[encoded data removed]",
      "text/plain": [
       "<Figure size 640x480 with 1 Axes>"
      ]
     },
     "metadata": {},
     "output_type": "display_data"
    }
   ],
   "source": [
    "plt.loglog(eigvals)"
   ]
  },
  {
   "cell_type": "code",
   "execution_count": 63,
   "metadata": {},
   "outputs": [],
   "source": [
    "np.save('PCA_U_f_100',eigenvecs)"
   ]
  },
  {
   "cell_type": "code",
   "execution_count": 65,
   "metadata": {},
   "outputs": [],
   "source": [
    "# Jacobian transpose times Jacobian operator for computing AS\n",
    "class JTJ_J:\n",
    "    def __init__(self, pde, prior, umalist=None, AS=None):\n",
    "        self.pde = pde\n",
    "        self.prior = prior\n",
    "        self.umalist = umalist\n",
    "        self.AS = AS\n",
    "        \n",
    "        # Help function\n",
    "        self.dm = dl.Vector()\n",
    "        self.out_ = TimeDependentVector(self.pde.times)\n",
    "        self.sol_ = TimeDependentVector(self.pde.times)\n",
    "        self.out_2 = TimeDependentVector(self.pde.times)\n",
    "        self.help_u_snap = dl.Vector()\n",
    "        self.help_u_snap1 = dl.Vector()\n",
    "        self.out_3 = TimeDependentVector(self.pde.times)\n",
    "        self.sol_2 = TimeDependentVector(self.pde.times)\n",
    "        self.out_4 = TimeDependentVector(self.pde.times)\n",
    "        self.out_5 = dl.Vector()\n",
    "        self.help_vec = dl.Vector()\n",
    "    \n",
    "    # Initialize the vectors    \n",
    "    def init_vec(self):\n",
    "        self.prior.init_vector(self.dm, 0)\n",
    "        self.out_.initialize(self.pde.M, 0)\n",
    "        self.sol_.initialize(self.pde.M, 0)\n",
    "        self.pde.M.init_vector(self.help_u_snap, 0)\n",
    "        self.pde.M.init_vector(self.help_u_snap1, 0)\n",
    "        self.out_3.initialize(self.pde.M, 0)\n",
    "        self.sol_2.initialize(self.pde.M, 0)\n",
    "        self.out_4.initialize(self.pde.M, 0)\n",
    "        self.prior.init_vector(self.out_5, 0)\n",
    "        self.prior.init_vector(self.help_vec, 0)\n",
    "    \n",
    "    def J_fs(self):     \n",
    "        res = []\n",
    "        for i in range(len(self.AS)):\n",
    "            self.init_vec()\n",
    "            self.dm.set_local(self.AS[i])\n",
    "            self.pde.applyC(self.dm, self.out_)\n",
    "            self.pde._solveIncrementalFwd(self.sol_, self.out_)\n",
    "            intmed = tDVec_to_numpy(self.out_)\n",
    "            res.append(intmed)\n",
    "        return np.array(res)\n",
    "    \n",
    "    def mult(self, x, y):\n",
    "        deno = len(self.umalist)\n",
    "        for i in range(deno):\n",
    "\n",
    "            self.init_vec()\n",
    "            # Not include negative because (-1)*(-1)\n",
    "            self.pde.setLinearizationPoint(self.umalist[i], True)\n",
    "            self.pde.applyC(x, self.out_)\n",
    "            self.pde._solveIncrementalFwd(self.sol_, self.out_)\n",
    "            self.pde._solveIncrementalAdj(self.sol_2, self.sol_)\n",
    "            self.pde.applyCt(self.sol_2, self.help_vec)\n",
    "            y.axpy(1./deno, self.help_vec)"
   ]
  },
  {
   "cell_type": "code",
   "execution_count": 66,
   "metadata": {},
   "outputs": [],
   "source": [
    "# Compute Active Subspace using the PDE solutions\n",
    "AS_gen = JTJ_J(pde, prior, xlist)\n",
    "Omega = MultiVector(x[PARAMETER], 128+10)\n",
    "parRandom.normal(1., Omega)\n",
    "d, U = doublePassG(AS_gen, prior.R, prior.Rsolver, Omega, 128)"
   ]
  },
  {
   "cell_type": "code",
   "execution_count": null,
   "metadata": {},
   "outputs": [
    {
     "data": {
      "text/plain": [
       "[<matplotlib.lines.Line2D at 0x7f64f05cba60>]"
      ]
     },
     "execution_count": 52,
     "metadata": {},
     "output_type": "execute_result"
    },
    {
     "data": {
      "image/png": "[encoded data removed]",
      "text/plain": [
       "<Figure size 640x480 with 1 Axes>"
      ]
     },
     "metadata": {},
     "output_type": "display_data"
    }
   ],
   "source": [
    "plt.semilogy(d)"
   ]
  },
  {
   "cell_type": "code",
   "execution_count": null,
   "metadata": {},
   "outputs": [],
   "source": [
    "sub_list = []\n",
    "for i in range(128):\n",
    "    sub_list.append(U[i].get_local())\n",
    "np_sub_list = np.array(sub_list)\n",
    "np.save('AS_fs', np_sub_list.T)"
   ]
  }
 ],
 "metadata": {
  "kernelspec": {
   "display_name": "fe_pt",
   "language": "python",
   "name": "python3"
  },
  "language_info": {
   "codemirror_mode": {
    "name": "ipython",
    "version": 3
   },
   "file_extension": ".py",
   "mimetype": "text/x-python",
   "name": "python",
   "nbconvert_exporter": "python",
   "pygments_lexer": "ipython3",
   "version": "3.10.9"
  }
 },
 "nbformat": 4,
 "nbformat_minor": 2
}
